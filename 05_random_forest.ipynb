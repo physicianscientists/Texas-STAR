{
 "cells": [
  {
   "cell_type": "markdown",
   "metadata": {},
   "source": [
    "# **05 Random Forest**"
   ]
  },
  {
   "cell_type": "markdown",
   "metadata": {},
   "source": [
    "### Importing Packages"
   ]
  },
  {
   "cell_type": "code",
   "execution_count": 8,
   "metadata": {},
   "outputs": [
    {
     "data": {
      "text/plain": [
       "'c:\\\\Users\\\\toofa\\\\OneDrive - Baylor College of Medicine\\\\APSA\\\\2024-07-29_Texas-STAR'"
      ]
     },
     "execution_count": 8,
     "metadata": {},
     "output_type": "execute_result"
    }
   ],
   "source": [
    "# Importing required packages\n",
    "import os\n",
    "import glob\n",
    "import pandas as pd\n",
    "import numpy as np\n",
    "import pickle\n",
    "from itertools import islice\n",
    "from sklearn.preprocessing import LabelEncoder\n",
    "from sklearn.preprocessing import StandardScaler, MinMaxScaler\n",
    "from sklearn.model_selection import train_test_split, GridSearchCV\n",
    "from sklearn.ensemble import RandomForestClassifier\n",
    "from sklearn.metrics import classification_report, accuracy_score, precision_score, recall_score, f1_score, confusion_matrix, ConfusionMatrixDisplay\n",
    "\n",
    "# Printing the working directory\n",
    "os.getcwd()"
   ]
  },
  {
   "cell_type": "markdown",
   "metadata": {},
   "source": [
    "### Reading in cleaning the Texas STAR dataset"
   ]
  },
  {
   "cell_type": "code",
   "execution_count": 12,
   "metadata": {},
   "outputs": [
    {
     "name": "stdout",
     "output_type": "stream",
     "text": [
      "(40039, 62)\n"
     ]
    }
   ],
   "source": [
    "# Importing TexasSTAR\n",
    "df = pd.read_excel(\"tables/df_clean.xlsx\")\n",
    "print(df.shape)"
   ]
  },
  {
   "cell_type": "code",
   "execution_count": 13,
   "metadata": {},
   "outputs": [],
   "source": [
    "# Filtering and cleaning for Random Forest\n",
    "df_clean = df[df[\"degrees\"].isin([\"MD\", \"MD-PhD\", \"MD-MPH\", \"MD-MBA\", \"MD-MSc\"])]\n",
    "\n",
    "# Filtering for columns\n",
    "cols_to_keep = ['Matched', 'Public_School', \"IvyP\", 'step1_centered', 'step2_centered', \"X..Honored.Clerkships\", \"Honors.A.This.Specialty\", \"AOA.Sigma\", 'GHHS', 'Research.Year', 'Absence.Year', \"Couples.Match\", \"X..Research.Experiences\", \"X..Abstracts..Pres..Posters\", \"X..Peer.Rev.Publications\", \"X..Volunteer.Experiences\", \"X..Leadership.Positions\", 'Required.to.Remediate', 'degrees']  #degrees \n",
    "df_clean = df_clean[cols_to_keep]\n",
    "\n",
    "# Dropping NA values \n",
    "df_clean = df_clean.dropna()\n",
    "\n",
    "# Feature Encoding for binary yes/no features\n",
    "label_encoder = LabelEncoder()\n",
    "df_clean[\"Matched\"] = label_encoder.fit_transform(df_clean[\"Matched\"])\n",
    "df_clean[\"Public_School\"] = label_encoder.fit_transform(df_clean[\"Public_School\"])\n",
    "df_clean[\"IvyP\"] = label_encoder.fit_transform(df_clean[\"IvyP\"])\n",
    "df_clean[\"Honors.A.This.Specialty\"] = label_encoder.fit_transform(df_clean[\"Honors.A.This.Specialty\"])\n",
    "df_clean[\"AOA.Sigma\"] = label_encoder.fit_transform(df_clean[\"AOA.Sigma\"])\n",
    "df_clean[\"GHHS\"] = label_encoder.fit_transform(df_clean[\"GHHS\"])\n",
    "df_clean[\"Research.Year\"] = label_encoder.fit_transform(df_clean[\"Research.Year\"])\n",
    "df_clean[\"Absence.Year\"] = label_encoder.fit_transform(df_clean[\"Absence.Year\"])\n",
    "df_clean[\"Couples.Match\"] = label_encoder.fit_transform(df_clean[\"Couples.Match\"])\n",
    "df_clean[\"Required.to.Remediate\"] = label_encoder.fit_transform(df_clean[\"Required.to.Remediate\"])\n",
    "\n",
    "# Min-Max normalization for numerical data to fit the 0-1 range\n",
    "scaler = MinMaxScaler()\n",
    "numerical_features = [\"step1_centered\", \"step2_centered\", \"X..Honored.Clerkships\", \"X..Research.Experiences\", \"X..Abstracts..Pres..Posters\", \"X..Peer.Rev.Publications\", \"X..Volunteer.Experiences\", \"X..Leadership.Positions\", \"AOA.Sigma\", \"GHHS\"]\n",
    "df_clean[numerical_features] = scaler.fit_transform(df_clean[numerical_features])"
   ]
  },
  {
   "cell_type": "markdown",
   "metadata": {},
   "source": [
    "### Random Forest to predict match outcomes for ALL students"
   ]
  },
  {
   "cell_type": "code",
   "execution_count": 14,
   "metadata": {},
   "outputs": [],
   "source": [
    "# Train test split\n",
    "X = df_clean.iloc[:, 1:18]\n",
    "y = df_clean.iloc[:, 0]\n",
    "\n",
    "X_train, X_test, y_train, y_test = train_test_split(X, y, random_state=117, test_size=0.2, stratify=y)"
   ]
  },
  {
   "cell_type": "code",
   "execution_count": 15,
   "metadata": {},
   "outputs": [
    {
     "name": "stdout",
     "output_type": "stream",
     "text": [
      "Fitting 10 folds for each of 15876 candidates, totalling 158760 fits\n"
     ]
    },
    {
     "data": {
      "text/html": [
       "<style>#sk-container-id-1 {\n",
       "  /* Definition of color scheme common for light and dark mode */\n",
       "  --sklearn-color-text: black;\n",
       "  --sklearn-color-line: gray;\n",
       "  /* Definition of color scheme for unfitted estimators */\n",
       "  --sklearn-color-unfitted-level-0: #fff5e6;\n",
       "  --sklearn-color-unfitted-level-1: #f6e4d2;\n",
       "  --sklearn-color-unfitted-level-2: #ffe0b3;\n",
       "  --sklearn-color-unfitted-level-3: chocolate;\n",
       "  /* Definition of color scheme for fitted estimators */\n",
       "  --sklearn-color-fitted-level-0: #f0f8ff;\n",
       "  --sklearn-color-fitted-level-1: #d4ebff;\n",
       "  --sklearn-color-fitted-level-2: #b3dbfd;\n",
       "  --sklearn-color-fitted-level-3: cornflowerblue;\n",
       "\n",
       "  /* Specific color for light theme */\n",
       "  --sklearn-color-text-on-default-background: var(--sg-text-color, var(--theme-code-foreground, var(--jp-content-font-color1, black)));\n",
       "  --sklearn-color-background: var(--sg-background-color, var(--theme-background, var(--jp-layout-color0, white)));\n",
       "  --sklearn-color-border-box: var(--sg-text-color, var(--theme-code-foreground, var(--jp-content-font-color1, black)));\n",
       "  --sklearn-color-icon: #696969;\n",
       "\n",
       "  @media (prefers-color-scheme: dark) {\n",
       "    /* Redefinition of color scheme for dark theme */\n",
       "    --sklearn-color-text-on-default-background: var(--sg-text-color, var(--theme-code-foreground, var(--jp-content-font-color1, white)));\n",
       "    --sklearn-color-background: var(--sg-background-color, var(--theme-background, var(--jp-layout-color0, #111)));\n",
       "    --sklearn-color-border-box: var(--sg-text-color, var(--theme-code-foreground, var(--jp-content-font-color1, white)));\n",
       "    --sklearn-color-icon: #878787;\n",
       "  }\n",
       "}\n",
       "\n",
       "#sk-container-id-1 {\n",
       "  color: var(--sklearn-color-text);\n",
       "}\n",
       "\n",
       "#sk-container-id-1 pre {\n",
       "  padding: 0;\n",
       "}\n",
       "\n",
       "#sk-container-id-1 input.sk-hidden--visually {\n",
       "  border: 0;\n",
       "  clip: rect(1px 1px 1px 1px);\n",
       "  clip: rect(1px, 1px, 1px, 1px);\n",
       "  height: 1px;\n",
       "  margin: -1px;\n",
       "  overflow: hidden;\n",
       "  padding: 0;\n",
       "  position: absolute;\n",
       "  width: 1px;\n",
       "}\n",
       "\n",
       "#sk-container-id-1 div.sk-dashed-wrapped {\n",
       "  border: 1px dashed var(--sklearn-color-line);\n",
       "  margin: 0 0.4em 0.5em 0.4em;\n",
       "  box-sizing: border-box;\n",
       "  padding-bottom: 0.4em;\n",
       "  background-color: var(--sklearn-color-background);\n",
       "}\n",
       "\n",
       "#sk-container-id-1 div.sk-container {\n",
       "  /* jupyter's `normalize.less` sets `[hidden] { display: none; }`\n",
       "     but bootstrap.min.css set `[hidden] { display: none !important; }`\n",
       "     so we also need the `!important` here to be able to override the\n",
       "     default hidden behavior on the sphinx rendered scikit-learn.org.\n",
       "     See: https://github.com/scikit-learn/scikit-learn/issues/21755 */\n",
       "  display: inline-block !important;\n",
       "  position: relative;\n",
       "}\n",
       "\n",
       "#sk-container-id-1 div.sk-text-repr-fallback {\n",
       "  display: none;\n",
       "}\n",
       "\n",
       "div.sk-parallel-item,\n",
       "div.sk-serial,\n",
       "div.sk-item {\n",
       "  /* draw centered vertical line to link estimators */\n",
       "  background-image: linear-gradient(var(--sklearn-color-text-on-default-background), var(--sklearn-color-text-on-default-background));\n",
       "  background-size: 2px 100%;\n",
       "  background-repeat: no-repeat;\n",
       "  background-position: center center;\n",
       "}\n",
       "\n",
       "/* Parallel-specific style estimator block */\n",
       "\n",
       "#sk-container-id-1 div.sk-parallel-item::after {\n",
       "  content: \"\";\n",
       "  width: 100%;\n",
       "  border-bottom: 2px solid var(--sklearn-color-text-on-default-background);\n",
       "  flex-grow: 1;\n",
       "}\n",
       "\n",
       "#sk-container-id-1 div.sk-parallel {\n",
       "  display: flex;\n",
       "  align-items: stretch;\n",
       "  justify-content: center;\n",
       "  background-color: var(--sklearn-color-background);\n",
       "  position: relative;\n",
       "}\n",
       "\n",
       "#sk-container-id-1 div.sk-parallel-item {\n",
       "  display: flex;\n",
       "  flex-direction: column;\n",
       "}\n",
       "\n",
       "#sk-container-id-1 div.sk-parallel-item:first-child::after {\n",
       "  align-self: flex-end;\n",
       "  width: 50%;\n",
       "}\n",
       "\n",
       "#sk-container-id-1 div.sk-parallel-item:last-child::after {\n",
       "  align-self: flex-start;\n",
       "  width: 50%;\n",
       "}\n",
       "\n",
       "#sk-container-id-1 div.sk-parallel-item:only-child::after {\n",
       "  width: 0;\n",
       "}\n",
       "\n",
       "/* Serial-specific style estimator block */\n",
       "\n",
       "#sk-container-id-1 div.sk-serial {\n",
       "  display: flex;\n",
       "  flex-direction: column;\n",
       "  align-items: center;\n",
       "  background-color: var(--sklearn-color-background);\n",
       "  padding-right: 1em;\n",
       "  padding-left: 1em;\n",
       "}\n",
       "\n",
       "\n",
       "/* Toggleable style: style used for estimator/Pipeline/ColumnTransformer box that is\n",
       "clickable and can be expanded/collapsed.\n",
       "- Pipeline and ColumnTransformer use this feature and define the default style\n",
       "- Estimators will overwrite some part of the style using the `sk-estimator` class\n",
       "*/\n",
       "\n",
       "/* Pipeline and ColumnTransformer style (default) */\n",
       "\n",
       "#sk-container-id-1 div.sk-toggleable {\n",
       "  /* Default theme specific background. It is overwritten whether we have a\n",
       "  specific estimator or a Pipeline/ColumnTransformer */\n",
       "  background-color: var(--sklearn-color-background);\n",
       "}\n",
       "\n",
       "/* Toggleable label */\n",
       "#sk-container-id-1 label.sk-toggleable__label {\n",
       "  cursor: pointer;\n",
       "  display: block;\n",
       "  width: 100%;\n",
       "  margin-bottom: 0;\n",
       "  padding: 0.5em;\n",
       "  box-sizing: border-box;\n",
       "  text-align: center;\n",
       "}\n",
       "\n",
       "#sk-container-id-1 label.sk-toggleable__label-arrow:before {\n",
       "  /* Arrow on the left of the label */\n",
       "  content: \"▸\";\n",
       "  float: left;\n",
       "  margin-right: 0.25em;\n",
       "  color: var(--sklearn-color-icon);\n",
       "}\n",
       "\n",
       "#sk-container-id-1 label.sk-toggleable__label-arrow:hover:before {\n",
       "  color: var(--sklearn-color-text);\n",
       "}\n",
       "\n",
       "/* Toggleable content - dropdown */\n",
       "\n",
       "#sk-container-id-1 div.sk-toggleable__content {\n",
       "  max-height: 0;\n",
       "  max-width: 0;\n",
       "  overflow: hidden;\n",
       "  text-align: left;\n",
       "  /* unfitted */\n",
       "  background-color: var(--sklearn-color-unfitted-level-0);\n",
       "}\n",
       "\n",
       "#sk-container-id-1 div.sk-toggleable__content.fitted {\n",
       "  /* fitted */\n",
       "  background-color: var(--sklearn-color-fitted-level-0);\n",
       "}\n",
       "\n",
       "#sk-container-id-1 div.sk-toggleable__content pre {\n",
       "  margin: 0.2em;\n",
       "  border-radius: 0.25em;\n",
       "  color: var(--sklearn-color-text);\n",
       "  /* unfitted */\n",
       "  background-color: var(--sklearn-color-unfitted-level-0);\n",
       "}\n",
       "\n",
       "#sk-container-id-1 div.sk-toggleable__content.fitted pre {\n",
       "  /* unfitted */\n",
       "  background-color: var(--sklearn-color-fitted-level-0);\n",
       "}\n",
       "\n",
       "#sk-container-id-1 input.sk-toggleable__control:checked~div.sk-toggleable__content {\n",
       "  /* Expand drop-down */\n",
       "  max-height: 200px;\n",
       "  max-width: 100%;\n",
       "  overflow: auto;\n",
       "}\n",
       "\n",
       "#sk-container-id-1 input.sk-toggleable__control:checked~label.sk-toggleable__label-arrow:before {\n",
       "  content: \"▾\";\n",
       "}\n",
       "\n",
       "/* Pipeline/ColumnTransformer-specific style */\n",
       "\n",
       "#sk-container-id-1 div.sk-label input.sk-toggleable__control:checked~label.sk-toggleable__label {\n",
       "  color: var(--sklearn-color-text);\n",
       "  background-color: var(--sklearn-color-unfitted-level-2);\n",
       "}\n",
       "\n",
       "#sk-container-id-1 div.sk-label.fitted input.sk-toggleable__control:checked~label.sk-toggleable__label {\n",
       "  background-color: var(--sklearn-color-fitted-level-2);\n",
       "}\n",
       "\n",
       "/* Estimator-specific style */\n",
       "\n",
       "/* Colorize estimator box */\n",
       "#sk-container-id-1 div.sk-estimator input.sk-toggleable__control:checked~label.sk-toggleable__label {\n",
       "  /* unfitted */\n",
       "  background-color: var(--sklearn-color-unfitted-level-2);\n",
       "}\n",
       "\n",
       "#sk-container-id-1 div.sk-estimator.fitted input.sk-toggleable__control:checked~label.sk-toggleable__label {\n",
       "  /* fitted */\n",
       "  background-color: var(--sklearn-color-fitted-level-2);\n",
       "}\n",
       "\n",
       "#sk-container-id-1 div.sk-label label.sk-toggleable__label,\n",
       "#sk-container-id-1 div.sk-label label {\n",
       "  /* The background is the default theme color */\n",
       "  color: var(--sklearn-color-text-on-default-background);\n",
       "}\n",
       "\n",
       "/* On hover, darken the color of the background */\n",
       "#sk-container-id-1 div.sk-label:hover label.sk-toggleable__label {\n",
       "  color: var(--sklearn-color-text);\n",
       "  background-color: var(--sklearn-color-unfitted-level-2);\n",
       "}\n",
       "\n",
       "/* Label box, darken color on hover, fitted */\n",
       "#sk-container-id-1 div.sk-label.fitted:hover label.sk-toggleable__label.fitted {\n",
       "  color: var(--sklearn-color-text);\n",
       "  background-color: var(--sklearn-color-fitted-level-2);\n",
       "}\n",
       "\n",
       "/* Estimator label */\n",
       "\n",
       "#sk-container-id-1 div.sk-label label {\n",
       "  font-family: monospace;\n",
       "  font-weight: bold;\n",
       "  display: inline-block;\n",
       "  line-height: 1.2em;\n",
       "}\n",
       "\n",
       "#sk-container-id-1 div.sk-label-container {\n",
       "  text-align: center;\n",
       "}\n",
       "\n",
       "/* Estimator-specific */\n",
       "#sk-container-id-1 div.sk-estimator {\n",
       "  font-family: monospace;\n",
       "  border: 1px dotted var(--sklearn-color-border-box);\n",
       "  border-radius: 0.25em;\n",
       "  box-sizing: border-box;\n",
       "  margin-bottom: 0.5em;\n",
       "  /* unfitted */\n",
       "  background-color: var(--sklearn-color-unfitted-level-0);\n",
       "}\n",
       "\n",
       "#sk-container-id-1 div.sk-estimator.fitted {\n",
       "  /* fitted */\n",
       "  background-color: var(--sklearn-color-fitted-level-0);\n",
       "}\n",
       "\n",
       "/* on hover */\n",
       "#sk-container-id-1 div.sk-estimator:hover {\n",
       "  /* unfitted */\n",
       "  background-color: var(--sklearn-color-unfitted-level-2);\n",
       "}\n",
       "\n",
       "#sk-container-id-1 div.sk-estimator.fitted:hover {\n",
       "  /* fitted */\n",
       "  background-color: var(--sklearn-color-fitted-level-2);\n",
       "}\n",
       "\n",
       "/* Specification for estimator info (e.g. \"i\" and \"?\") */\n",
       "\n",
       "/* Common style for \"i\" and \"?\" */\n",
       "\n",
       ".sk-estimator-doc-link,\n",
       "a:link.sk-estimator-doc-link,\n",
       "a:visited.sk-estimator-doc-link {\n",
       "  float: right;\n",
       "  font-size: smaller;\n",
       "  line-height: 1em;\n",
       "  font-family: monospace;\n",
       "  background-color: var(--sklearn-color-background);\n",
       "  border-radius: 1em;\n",
       "  height: 1em;\n",
       "  width: 1em;\n",
       "  text-decoration: none !important;\n",
       "  margin-left: 1ex;\n",
       "  /* unfitted */\n",
       "  border: var(--sklearn-color-unfitted-level-1) 1pt solid;\n",
       "  color: var(--sklearn-color-unfitted-level-1);\n",
       "}\n",
       "\n",
       ".sk-estimator-doc-link.fitted,\n",
       "a:link.sk-estimator-doc-link.fitted,\n",
       "a:visited.sk-estimator-doc-link.fitted {\n",
       "  /* fitted */\n",
       "  border: var(--sklearn-color-fitted-level-1) 1pt solid;\n",
       "  color: var(--sklearn-color-fitted-level-1);\n",
       "}\n",
       "\n",
       "/* On hover */\n",
       "div.sk-estimator:hover .sk-estimator-doc-link:hover,\n",
       ".sk-estimator-doc-link:hover,\n",
       "div.sk-label-container:hover .sk-estimator-doc-link:hover,\n",
       ".sk-estimator-doc-link:hover {\n",
       "  /* unfitted */\n",
       "  background-color: var(--sklearn-color-unfitted-level-3);\n",
       "  color: var(--sklearn-color-background);\n",
       "  text-decoration: none;\n",
       "}\n",
       "\n",
       "div.sk-estimator.fitted:hover .sk-estimator-doc-link.fitted:hover,\n",
       ".sk-estimator-doc-link.fitted:hover,\n",
       "div.sk-label-container:hover .sk-estimator-doc-link.fitted:hover,\n",
       ".sk-estimator-doc-link.fitted:hover {\n",
       "  /* fitted */\n",
       "  background-color: var(--sklearn-color-fitted-level-3);\n",
       "  color: var(--sklearn-color-background);\n",
       "  text-decoration: none;\n",
       "}\n",
       "\n",
       "/* Span, style for the box shown on hovering the info icon */\n",
       ".sk-estimator-doc-link span {\n",
       "  display: none;\n",
       "  z-index: 9999;\n",
       "  position: relative;\n",
       "  font-weight: normal;\n",
       "  right: .2ex;\n",
       "  padding: .5ex;\n",
       "  margin: .5ex;\n",
       "  width: min-content;\n",
       "  min-width: 20ex;\n",
       "  max-width: 50ex;\n",
       "  color: var(--sklearn-color-text);\n",
       "  box-shadow: 2pt 2pt 4pt #999;\n",
       "  /* unfitted */\n",
       "  background: var(--sklearn-color-unfitted-level-0);\n",
       "  border: .5pt solid var(--sklearn-color-unfitted-level-3);\n",
       "}\n",
       "\n",
       ".sk-estimator-doc-link.fitted span {\n",
       "  /* fitted */\n",
       "  background: var(--sklearn-color-fitted-level-0);\n",
       "  border: var(--sklearn-color-fitted-level-3);\n",
       "}\n",
       "\n",
       ".sk-estimator-doc-link:hover span {\n",
       "  display: block;\n",
       "}\n",
       "\n",
       "/* \"?\"-specific style due to the `<a>` HTML tag */\n",
       "\n",
       "#sk-container-id-1 a.estimator_doc_link {\n",
       "  float: right;\n",
       "  font-size: 1rem;\n",
       "  line-height: 1em;\n",
       "  font-family: monospace;\n",
       "  background-color: var(--sklearn-color-background);\n",
       "  border-radius: 1rem;\n",
       "  height: 1rem;\n",
       "  width: 1rem;\n",
       "  text-decoration: none;\n",
       "  /* unfitted */\n",
       "  color: var(--sklearn-color-unfitted-level-1);\n",
       "  border: var(--sklearn-color-unfitted-level-1) 1pt solid;\n",
       "}\n",
       "\n",
       "#sk-container-id-1 a.estimator_doc_link.fitted {\n",
       "  /* fitted */\n",
       "  border: var(--sklearn-color-fitted-level-1) 1pt solid;\n",
       "  color: var(--sklearn-color-fitted-level-1);\n",
       "}\n",
       "\n",
       "/* On hover */\n",
       "#sk-container-id-1 a.estimator_doc_link:hover {\n",
       "  /* unfitted */\n",
       "  background-color: var(--sklearn-color-unfitted-level-3);\n",
       "  color: var(--sklearn-color-background);\n",
       "  text-decoration: none;\n",
       "}\n",
       "\n",
       "#sk-container-id-1 a.estimator_doc_link.fitted:hover {\n",
       "  /* fitted */\n",
       "  background-color: var(--sklearn-color-fitted-level-3);\n",
       "}\n",
       "</style><div id=\"sk-container-id-1\" class=\"sk-top-container\"><div class=\"sk-text-repr-fallback\"><pre>GridSearchCV(cv=10, estimator=RandomForestClassifier(random_state=0), n_jobs=20,\n",
       "             param_grid={&#x27;max_depth&#x27;: [2, 4, 6, 8, 10, 12, None],\n",
       "                         &#x27;max_features&#x27;: [2, 3, 4, 6, 8, 10],\n",
       "                         &#x27;min_samples_leaf&#x27;: [1, 2, 3, 4, 6, 8, 10],\n",
       "                         &#x27;min_samples_split&#x27;: [2, 3, 4, 6, 8, 10],\n",
       "                         &#x27;n_estimators&#x27;: [2, 5, 10, 15, 20, 30, 40, 50, 100]},\n",
       "             refit=&#x27;f1&#x27;, scoring=[&#x27;accuracy&#x27;, &#x27;precision&#x27;, &#x27;recall&#x27;, &#x27;f1&#x27;],\n",
       "             verbose=2)</pre><b>In a Jupyter environment, please rerun this cell to show the HTML representation or trust the notebook. <br />On GitHub, the HTML representation is unable to render, please try loading this page with nbviewer.org.</b></div><div class=\"sk-container\" hidden><div class=\"sk-item sk-dashed-wrapped\"><div class=\"sk-label-container\"><div class=\"sk-label fitted sk-toggleable\"><input class=\"sk-toggleable__control sk-hidden--visually\" id=\"sk-estimator-id-1\" type=\"checkbox\" ><label for=\"sk-estimator-id-1\" class=\"sk-toggleable__label fitted sk-toggleable__label-arrow fitted\">&nbsp;&nbsp;GridSearchCV<a class=\"sk-estimator-doc-link fitted\" rel=\"noreferrer\" target=\"_blank\" href=\"https://scikit-learn.org/1.5/modules/generated/sklearn.model_selection.GridSearchCV.html\">?<span>Documentation for GridSearchCV</span></a><span class=\"sk-estimator-doc-link fitted\">i<span>Fitted</span></span></label><div class=\"sk-toggleable__content fitted\"><pre>GridSearchCV(cv=10, estimator=RandomForestClassifier(random_state=0), n_jobs=20,\n",
       "             param_grid={&#x27;max_depth&#x27;: [2, 4, 6, 8, 10, 12, None],\n",
       "                         &#x27;max_features&#x27;: [2, 3, 4, 6, 8, 10],\n",
       "                         &#x27;min_samples_leaf&#x27;: [1, 2, 3, 4, 6, 8, 10],\n",
       "                         &#x27;min_samples_split&#x27;: [2, 3, 4, 6, 8, 10],\n",
       "                         &#x27;n_estimators&#x27;: [2, 5, 10, 15, 20, 30, 40, 50, 100]},\n",
       "             refit=&#x27;f1&#x27;, scoring=[&#x27;accuracy&#x27;, &#x27;precision&#x27;, &#x27;recall&#x27;, &#x27;f1&#x27;],\n",
       "             verbose=2)</pre></div> </div></div><div class=\"sk-parallel\"><div class=\"sk-parallel-item\"><div class=\"sk-item\"><div class=\"sk-label-container\"><div class=\"sk-label fitted sk-toggleable\"><input class=\"sk-toggleable__control sk-hidden--visually\" id=\"sk-estimator-id-2\" type=\"checkbox\" ><label for=\"sk-estimator-id-2\" class=\"sk-toggleable__label fitted sk-toggleable__label-arrow fitted\">best_estimator_: RandomForestClassifier</label><div class=\"sk-toggleable__content fitted\"><pre>RandomForestClassifier(max_depth=10, max_features=6, min_samples_split=4,\n",
       "                       n_estimators=40, random_state=0)</pre></div> </div></div><div class=\"sk-serial\"><div class=\"sk-item\"><div class=\"sk-estimator fitted sk-toggleable\"><input class=\"sk-toggleable__control sk-hidden--visually\" id=\"sk-estimator-id-3\" type=\"checkbox\" ><label for=\"sk-estimator-id-3\" class=\"sk-toggleable__label fitted sk-toggleable__label-arrow fitted\">&nbsp;RandomForestClassifier<a class=\"sk-estimator-doc-link fitted\" rel=\"noreferrer\" target=\"_blank\" href=\"https://scikit-learn.org/1.5/modules/generated/sklearn.ensemble.RandomForestClassifier.html\">?<span>Documentation for RandomForestClassifier</span></a></label><div class=\"sk-toggleable__content fitted\"><pre>RandomForestClassifier(max_depth=10, max_features=6, min_samples_split=4,\n",
       "                       n_estimators=40, random_state=0)</pre></div> </div></div></div></div></div></div></div></div></div>"
      ],
      "text/plain": [
       "GridSearchCV(cv=10, estimator=RandomForestClassifier(random_state=0), n_jobs=20,\n",
       "             param_grid={'max_depth': [2, 4, 6, 8, 10, 12, None],\n",
       "                         'max_features': [2, 3, 4, 6, 8, 10],\n",
       "                         'min_samples_leaf': [1, 2, 3, 4, 6, 8, 10],\n",
       "                         'min_samples_split': [2, 3, 4, 6, 8, 10],\n",
       "                         'n_estimators': [2, 5, 10, 15, 20, 30, 40, 50, 100]},\n",
       "             refit='f1', scoring=['accuracy', 'precision', 'recall', 'f1'],\n",
       "             verbose=2)"
      ]
     },
     "execution_count": 15,
     "metadata": {},
     "output_type": "execute_result"
    }
   ],
   "source": [
    "# RandomForest Classifier\n",
    "rf = RandomForestClassifier(random_state=0)\n",
    "\n",
    "# hyperparameter tuning\n",
    "cv_params = {'max_depth': [2, 4, 6, 8, 10, 12, None],\n",
    "             'min_samples_leaf': [1, 2, 3, 4, 6, 8, 10],\n",
    "             'min_samples_split': [2, 3, 4, 6, 8, 10],\n",
    "             'max_features': [2, 3, 4, 6, 8, 10],\n",
    "             'n_estimators': [2, 5, 10, 15, 20, 30, 40, 50, 100]}\n",
    " \n",
    "# scoing metrics\n",
    "scoring = ['accuracy', 'precision', 'recall', 'f1']\n",
    "\n",
    "# calling RF - takes a LONG time - only run once\n",
    "rf_cv = GridSearchCV(rf, param_grid=cv_params, scoring=scoring, cv=10, refit=\"f1\", n_jobs=20, verbose=2)\n",
    "rf_cv.fit(X_train, y_train)"
   ]
  },
  {
   "cell_type": "code",
   "execution_count": 17,
   "metadata": {},
   "outputs": [
    {
     "name": "stdout",
     "output_type": "stream",
     "text": [
      "{'max_depth': 10, 'max_features': 6, 'min_samples_leaf': 1, 'min_samples_split': 4, 'n_estimators': 40}\n",
      "0.9369729682540114\n"
     ]
    }
   ],
   "source": [
    "# Displaying the best parmeters\n",
    "print(rf_cv.best_params_)\n",
    "print(rf_cv.best_score_)"
   ]
  },
  {
   "cell_type": "code",
   "execution_count": 18,
   "metadata": {},
   "outputs": [],
   "source": [
    "def make_results(model_name, model_object):\n",
    "    '''\n",
    "    Accepts as arguments a model name (your choice - string) and\n",
    "    a fit GridSearchCV model object.\n",
    "  \n",
    "    Returns a pandas df with the F1, recall, precision, and accuracy scores\n",
    "    for the model with the best mean F1 score across all validation folds.  \n",
    "    '''\n",
    "\n",
    "    # Get all the results from the CV and put them in a df\n",
    "    cv_results = pd.DataFrame(model_object.cv_results_)\n",
    "\n",
    "    # Isolate the row of the df with the max(mean f1 score)\n",
    "    best_estimator_results = cv_results.iloc[cv_results['mean_test_f1'].idxmax(), :]\n",
    "\n",
    "    # Extract accuracy, precision, recall, and f1 score from that row\n",
    "    f1 = best_estimator_results.mean_test_f1\n",
    "    recall = best_estimator_results.mean_test_recall\n",
    "    precision = best_estimator_results.mean_test_precision\n",
    "    accuracy = best_estimator_results.mean_test_accuracy\n",
    "  \n",
    "    # Create table of results\n",
    "    table = pd.DataFrame(\n",
    "         {'model': [model_name],\n",
    "          'precision': [precision],\n",
    "          'recall': [recall],\n",
    "          'F1': [f1],\n",
    "          'accuracy': [accuracy],\n",
    "         },\n",
    "     )\n",
    "  \n",
    "    return table"
   ]
  },
  {
   "cell_type": "code",
   "execution_count": 19,
   "metadata": {},
   "outputs": [
    {
     "data": {
      "application/vnd.microsoft.datawrangler.viewer.v0+json": {
       "columns": [
        {
         "name": "index",
         "rawType": "int64",
         "type": "integer"
        },
        {
         "name": "model",
         "rawType": "object",
         "type": "string"
        },
        {
         "name": "precision",
         "rawType": "float64",
         "type": "float"
        },
        {
         "name": "recall",
         "rawType": "float64",
         "type": "float"
        },
        {
         "name": "F1",
         "rawType": "float64",
         "type": "float"
        },
        {
         "name": "accuracy",
         "rawType": "float64",
         "type": "float"
        }
       ],
       "conversionMethod": "pd.DataFrame",
       "ref": "6a7ad297-0741-479c-b7a1-50e10a53ad74",
       "rows": [
        [
         "0",
         "rf_all",
         "0.8817430408477671",
         "0.9995843230403801",
         "0.9369729682540114",
         "0.8815190463053584"
        ]
       ],
       "shape": {
        "columns": 5,
        "rows": 1
       }
      },
      "text/html": [
       "<div>\n",
       "<style scoped>\n",
       "    .dataframe tbody tr th:only-of-type {\n",
       "        vertical-align: middle;\n",
       "    }\n",
       "\n",
       "    .dataframe tbody tr th {\n",
       "        vertical-align: top;\n",
       "    }\n",
       "\n",
       "    .dataframe thead th {\n",
       "        text-align: right;\n",
       "    }\n",
       "</style>\n",
       "<table border=\"1\" class=\"dataframe\">\n",
       "  <thead>\n",
       "    <tr style=\"text-align: right;\">\n",
       "      <th></th>\n",
       "      <th>model</th>\n",
       "      <th>precision</th>\n",
       "      <th>recall</th>\n",
       "      <th>F1</th>\n",
       "      <th>accuracy</th>\n",
       "    </tr>\n",
       "  </thead>\n",
       "  <tbody>\n",
       "    <tr>\n",
       "      <th>0</th>\n",
       "      <td>rf_all</td>\n",
       "      <td>0.881743</td>\n",
       "      <td>0.999584</td>\n",
       "      <td>0.936973</td>\n",
       "      <td>0.881519</td>\n",
       "    </tr>\n",
       "  </tbody>\n",
       "</table>\n",
       "</div>"
      ],
      "text/plain": [
       "    model  precision    recall        F1  accuracy\n",
       "0  rf_all   0.881743  0.999584  0.936973  0.881519"
      ]
     },
     "execution_count": 19,
     "metadata": {},
     "output_type": "execute_result"
    }
   ],
   "source": [
    "# Performance metrics for ALL students\n",
    "rf_cv_results = make_results(model_name=\"rf_all\", model_object=rf_cv)\n",
    "rf_cv_results"
   ]
  },
  {
   "cell_type": "code",
   "execution_count": 21,
   "metadata": {},
   "outputs": [],
   "source": [
    "# Saving and Pickle the model\n",
    "#with open('tables/rf_cv_model.pickle', 'wb') as to_write:\n",
    "#    pickle.dump(rf_cv, to_write)\n",
    "    \n",
    "# Reading the Pickled rf model\n",
    "with open('tables/rf_cv_model.pickle', 'rb') as to_read:\n",
    "    rv_cv = pickle.load(to_read)"
   ]
  },
  {
   "cell_type": "code",
   "execution_count": 20,
   "metadata": {},
   "outputs": [
    {
     "data": {
      "text/plain": [
       "0.9367905630981527"
      ]
     },
     "execution_count": 20,
     "metadata": {},
     "output_type": "execute_result"
    }
   ],
   "source": [
    "# Predicting based on the test dataset\n",
    "y_pred = rf_cv.predict(X_test)\n",
    "rf_cv.score(X_test, y_test)"
   ]
  },
  {
   "cell_type": "code",
   "execution_count": 26,
   "metadata": {},
   "outputs": [
    {
     "data": {
      "application/vnd.microsoft.datawrangler.viewer.v0+json": {
       "columns": [
        {
         "name": "index",
         "rawType": "object",
         "type": "string"
        },
        {
         "name": "0",
         "rawType": "float64",
         "type": "float"
        }
       ],
       "conversionMethod": "pd.DataFrame",
       "ref": "df3694bb-e2db-44c1-af7a-c604716243a1",
       "rows": [
        [
         "step2_centered",
         "0.12478726150186623"
        ],
        [
         "step1_centered",
         "0.11675594948131007"
        ],
        [
         "X..Volunteer.Experiences",
         "0.10868064500620317"
        ],
        [
         "X..Leadership.Positions",
         "0.10495780106925173"
        ],
        [
         "X..Research.Experiences",
         "0.1041245524962808"
        ],
        [
         "X..Abstracts..Pres..Posters",
         "0.08942911861107262"
        ],
        [
         "X..Peer.Rev.Publications",
         "0.0857963954907121"
        ],
        [
         "X..Honored.Clerkships",
         "0.08132531320711517"
        ],
        [
         "GHHS",
         "0.02705947369832838"
        ],
        [
         "AOA.Sigma",
         "0.02675112515453371"
        ],
        [
         "Honors.A.This.Specialty",
         "0.025788150926046166"
        ],
        [
         "Public_School",
         "0.023794260864666402"
        ],
        [
         "Absence.Year",
         "0.01996580396270407"
        ],
        [
         "Required.to.Remediate",
         "0.018910302526781695"
        ],
        [
         "Research.Year",
         "0.017396137755183203"
        ],
        [
         "Couples.Match",
         "0.014976850794074225"
        ],
        [
         "IvyP",
         "0.009500857453870172"
        ]
       ],
       "shape": {
        "columns": 1,
        "rows": 17
       }
      },
      "text/html": [
       "<div>\n",
       "<style scoped>\n",
       "    .dataframe tbody tr th:only-of-type {\n",
       "        vertical-align: middle;\n",
       "    }\n",
       "\n",
       "    .dataframe tbody tr th {\n",
       "        vertical-align: top;\n",
       "    }\n",
       "\n",
       "    .dataframe thead th {\n",
       "        text-align: right;\n",
       "    }\n",
       "</style>\n",
       "<table border=\"1\" class=\"dataframe\">\n",
       "  <thead>\n",
       "    <tr style=\"text-align: right;\">\n",
       "      <th></th>\n",
       "      <th>0</th>\n",
       "    </tr>\n",
       "  </thead>\n",
       "  <tbody>\n",
       "    <tr>\n",
       "      <th>step2_centered</th>\n",
       "      <td>0.124787</td>\n",
       "    </tr>\n",
       "    <tr>\n",
       "      <th>step1_centered</th>\n",
       "      <td>0.116756</td>\n",
       "    </tr>\n",
       "    <tr>\n",
       "      <th>X..Volunteer.Experiences</th>\n",
       "      <td>0.108681</td>\n",
       "    </tr>\n",
       "    <tr>\n",
       "      <th>X..Leadership.Positions</th>\n",
       "      <td>0.104958</td>\n",
       "    </tr>\n",
       "    <tr>\n",
       "      <th>X..Research.Experiences</th>\n",
       "      <td>0.104125</td>\n",
       "    </tr>\n",
       "    <tr>\n",
       "      <th>X..Abstracts..Pres..Posters</th>\n",
       "      <td>0.089429</td>\n",
       "    </tr>\n",
       "    <tr>\n",
       "      <th>X..Peer.Rev.Publications</th>\n",
       "      <td>0.085796</td>\n",
       "    </tr>\n",
       "    <tr>\n",
       "      <th>X..Honored.Clerkships</th>\n",
       "      <td>0.081325</td>\n",
       "    </tr>\n",
       "    <tr>\n",
       "      <th>GHHS</th>\n",
       "      <td>0.027059</td>\n",
       "    </tr>\n",
       "    <tr>\n",
       "      <th>AOA.Sigma</th>\n",
       "      <td>0.026751</td>\n",
       "    </tr>\n",
       "    <tr>\n",
       "      <th>Honors.A.This.Specialty</th>\n",
       "      <td>0.025788</td>\n",
       "    </tr>\n",
       "    <tr>\n",
       "      <th>Public_School</th>\n",
       "      <td>0.023794</td>\n",
       "    </tr>\n",
       "    <tr>\n",
       "      <th>Absence.Year</th>\n",
       "      <td>0.019966</td>\n",
       "    </tr>\n",
       "    <tr>\n",
       "      <th>Required.to.Remediate</th>\n",
       "      <td>0.018910</td>\n",
       "    </tr>\n",
       "    <tr>\n",
       "      <th>Research.Year</th>\n",
       "      <td>0.017396</td>\n",
       "    </tr>\n",
       "    <tr>\n",
       "      <th>Couples.Match</th>\n",
       "      <td>0.014977</td>\n",
       "    </tr>\n",
       "    <tr>\n",
       "      <th>IvyP</th>\n",
       "      <td>0.009501</td>\n",
       "    </tr>\n",
       "  </tbody>\n",
       "</table>\n",
       "</div>"
      ],
      "text/plain": [
       "                                    0\n",
       "step2_centered               0.124787\n",
       "step1_centered               0.116756\n",
       "X..Volunteer.Experiences     0.108681\n",
       "X..Leadership.Positions      0.104958\n",
       "X..Research.Experiences      0.104125\n",
       "X..Abstracts..Pres..Posters  0.089429\n",
       "X..Peer.Rev.Publications     0.085796\n",
       "X..Honored.Clerkships        0.081325\n",
       "GHHS                         0.027059\n",
       "AOA.Sigma                    0.026751\n",
       "Honors.A.This.Specialty      0.025788\n",
       "Public_School                0.023794\n",
       "Absence.Year                 0.019966\n",
       "Required.to.Remediate        0.018910\n",
       "Research.Year                0.017396\n",
       "Couples.Match                0.014977\n",
       "IvyP                         0.009501"
      ]
     },
     "execution_count": 26,
     "metadata": {},
     "output_type": "execute_result"
    }
   ],
   "source": [
    "feat_importances = pd.DataFrame(rf_cv.best_estimator_.feature_importances_, index=X.columns).sort_values(0, ascending=False)\n",
    "feat_importances\n"
   ]
  },
  {
   "cell_type": "markdown",
   "metadata": {},
   "source": [
    "### Running random forest with tuned hyperparameters on each individual degree path"
   ]
  },
  {
   "cell_type": "code",
   "execution_count": 27,
   "metadata": {},
   "outputs": [],
   "source": [
    "def rf_spec(df, degree_path):\n",
    "    \"\"\"\n",
    "    Function to run random forest classifier on specific degree paths\n",
    "    \"\"\"\n",
    "    \n",
    "    # Filtering the dataframe by degree path\n",
    "    print(\"Running random forest classifier on: {}\".format(degree_path))\n",
    "    df_filt = df[df[\"degrees\"]==degree_path]\n",
    "    \n",
    "    # Train test split\n",
    "    X = df_filt.iloc[:, 1:18]\n",
    "    y = df_filt.iloc[:, 0]\n",
    "    X_train, X_test, y_train, y_test = train_test_split(X, y, random_state=117, test_size=0.2, stratify=y)\n",
    "    \n",
    "    # RandomForest Classifier\n",
    "    rf = RandomForestClassifier(random_state=0)\n",
    "\n",
    "    # Hyperparameter selection\n",
    "    cv_params = {'max_depth': [10],\n",
    "                'min_samples_leaf': [1],\n",
    "                'min_samples_split': [4],\n",
    "                'max_features': [6],\n",
    "                'n_estimators': [40]}\n",
    "\n",
    "    # scoing metrics\n",
    "    scoring = ['accuracy', 'precision', 'recall', 'f1']\n",
    "\n",
    "    # calling RF - takes a LONG time - only run once\n",
    "    rf_cv = GridSearchCV(rf, param_grid=cv_params, scoring=scoring, cv=10, refit=\"f1\", n_jobs=10, verbose=1)\n",
    "    rf_cv.fit(X_train, y_train)\n",
    "    \n",
    "    # Predicting and scoring\n",
    "    y_pred = rf_cv.predict(X_test)\n",
    "    print(rf_cv.score(X_test, y_test))\n",
    "    \n",
    "    # Classification report\n",
    "    c_report = classification_report(y_test, y_pred)\n",
    "    \n",
    "    # Performanace metrics\n",
    "    rf_cv_results = make_results(model_name=degree_path, model_object=rf_cv)\n",
    "    display(rf_cv_results)\n",
    "    \n",
    "    # Feature importances\n",
    "    features = pd.DataFrame(rf_cv.best_estimator_.feature_importances_, index=X.columns).sort_values(0, ascending=False)\n",
    "    \n",
    "    # Cleaning and exporting\n",
    "    features[\"degree\"] = degree_path\n",
    "    features = features.reset_index(drop=False)\n",
    "    features.columns = [\"feature\", \"importance\", \"degree\"]\n",
    "    features['size'] = X.shape[0]\n",
    "    return features, rf_cv_results"
   ]
  },
  {
   "cell_type": "code",
   "execution_count": 28,
   "metadata": {},
   "outputs": [
    {
     "name": "stdout",
     "output_type": "stream",
     "text": [
      "Running random forest classifier on: MD\n",
      "Fitting 10 folds for each of 1 candidates, totalling 10 fits\n",
      "0.938337801608579\n"
     ]
    },
    {
     "data": {
      "application/vnd.microsoft.datawrangler.viewer.v0+json": {
       "columns": [
        {
         "name": "index",
         "rawType": "int64",
         "type": "integer"
        },
        {
         "name": "model",
         "rawType": "object",
         "type": "string"
        },
        {
         "name": "precision",
         "rawType": "float64",
         "type": "float"
        },
        {
         "name": "recall",
         "rawType": "float64",
         "type": "float"
        },
        {
         "name": "F1",
         "rawType": "float64",
         "type": "float"
        },
        {
         "name": "accuracy",
         "rawType": "float64",
         "type": "float"
        }
       ],
       "conversionMethod": "pd.DataFrame",
       "ref": "3775f836-ed71-4443-8079-e9c533ec9e42",
       "rows": [
        [
         "0",
         "MD",
         "0.8844381724074271",
         "0.9994286733965534",
         "0.9384237220216951",
         "0.8840570531816588"
        ]
       ],
       "shape": {
        "columns": 5,
        "rows": 1
       }
      },
      "text/html": [
       "<div>\n",
       "<style scoped>\n",
       "    .dataframe tbody tr th:only-of-type {\n",
       "        vertical-align: middle;\n",
       "    }\n",
       "\n",
       "    .dataframe tbody tr th {\n",
       "        vertical-align: top;\n",
       "    }\n",
       "\n",
       "    .dataframe thead th {\n",
       "        text-align: right;\n",
       "    }\n",
       "</style>\n",
       "<table border=\"1\" class=\"dataframe\">\n",
       "  <thead>\n",
       "    <tr style=\"text-align: right;\">\n",
       "      <th></th>\n",
       "      <th>model</th>\n",
       "      <th>precision</th>\n",
       "      <th>recall</th>\n",
       "      <th>F1</th>\n",
       "      <th>accuracy</th>\n",
       "    </tr>\n",
       "  </thead>\n",
       "  <tbody>\n",
       "    <tr>\n",
       "      <th>0</th>\n",
       "      <td>MD</td>\n",
       "      <td>0.884438</td>\n",
       "      <td>0.999429</td>\n",
       "      <td>0.938424</td>\n",
       "      <td>0.884057</td>\n",
       "    </tr>\n",
       "  </tbody>\n",
       "</table>\n",
       "</div>"
      ],
      "text/plain": [
       "  model  precision    recall        F1  accuracy\n",
       "0    MD   0.884438  0.999429  0.938424  0.884057"
      ]
     },
     "metadata": {},
     "output_type": "display_data"
    },
    {
     "name": "stdout",
     "output_type": "stream",
     "text": [
      "Running random forest classifier on: MD-PhD\n",
      "Fitting 10 folds for each of 1 candidates, totalling 10 fits\n",
      "0.9215686274509803\n"
     ]
    },
    {
     "data": {
      "application/vnd.microsoft.datawrangler.viewer.v0+json": {
       "columns": [
        {
         "name": "index",
         "rawType": "int64",
         "type": "integer"
        },
        {
         "name": "model",
         "rawType": "object",
         "type": "string"
        },
        {
         "name": "precision",
         "rawType": "float64",
         "type": "float"
        },
        {
         "name": "recall",
         "rawType": "float64",
         "type": "float"
        },
        {
         "name": "F1",
         "rawType": "float64",
         "type": "float"
        },
        {
         "name": "accuracy",
         "rawType": "float64",
         "type": "float"
        }
       ],
       "conversionMethod": "pd.DataFrame",
       "ref": "6cd195ac-940c-4d0c-b9c1-2126721b07f8",
       "rows": [
        [
         "0",
         "MD-PhD",
         "0.8777950525541703",
         "0.9792498487598307",
         "0.9256614497505005",
         "0.8625282677521483"
        ]
       ],
       "shape": {
        "columns": 5,
        "rows": 1
       }
      },
      "text/html": [
       "<div>\n",
       "<style scoped>\n",
       "    .dataframe tbody tr th:only-of-type {\n",
       "        vertical-align: middle;\n",
       "    }\n",
       "\n",
       "    .dataframe tbody tr th {\n",
       "        vertical-align: top;\n",
       "    }\n",
       "\n",
       "    .dataframe thead th {\n",
       "        text-align: right;\n",
       "    }\n",
       "</style>\n",
       "<table border=\"1\" class=\"dataframe\">\n",
       "  <thead>\n",
       "    <tr style=\"text-align: right;\">\n",
       "      <th></th>\n",
       "      <th>model</th>\n",
       "      <th>precision</th>\n",
       "      <th>recall</th>\n",
       "      <th>F1</th>\n",
       "      <th>accuracy</th>\n",
       "    </tr>\n",
       "  </thead>\n",
       "  <tbody>\n",
       "    <tr>\n",
       "      <th>0</th>\n",
       "      <td>MD-PhD</td>\n",
       "      <td>0.877795</td>\n",
       "      <td>0.97925</td>\n",
       "      <td>0.925661</td>\n",
       "      <td>0.862528</td>\n",
       "    </tr>\n",
       "  </tbody>\n",
       "</table>\n",
       "</div>"
      ],
      "text/plain": [
       "    model  precision   recall        F1  accuracy\n",
       "0  MD-PhD   0.877795  0.97925  0.925661  0.862528"
      ]
     },
     "metadata": {},
     "output_type": "display_data"
    },
    {
     "name": "stdout",
     "output_type": "stream",
     "text": [
      "Running random forest classifier on: MD-MPH\n",
      "Fitting 10 folds for each of 1 candidates, totalling 10 fits\n",
      "0.9309576837416481\n"
     ]
    },
    {
     "data": {
      "application/vnd.microsoft.datawrangler.viewer.v0+json": {
       "columns": [
        {
         "name": "index",
         "rawType": "int64",
         "type": "integer"
        },
        {
         "name": "model",
         "rawType": "object",
         "type": "string"
        },
        {
         "name": "precision",
         "rawType": "float64",
         "type": "float"
        },
        {
         "name": "recall",
         "rawType": "float64",
         "type": "float"
        },
        {
         "name": "F1",
         "rawType": "float64",
         "type": "float"
        },
        {
         "name": "accuracy",
         "rawType": "float64",
         "type": "float"
        }
       ],
       "conversionMethod": "pd.DataFrame",
       "ref": "00328c88-6b1c-4552-a43e-5680e221ee6c",
       "rows": [
        [
         "0",
         "MD-MPH",
         "0.8870000668278586",
         "0.9847058823529412",
         "0.9332243901068716",
         "0.8757624570446735"
        ]
       ],
       "shape": {
        "columns": 5,
        "rows": 1
       }
      },
      "text/html": [
       "<div>\n",
       "<style scoped>\n",
       "    .dataframe tbody tr th:only-of-type {\n",
       "        vertical-align: middle;\n",
       "    }\n",
       "\n",
       "    .dataframe tbody tr th {\n",
       "        vertical-align: top;\n",
       "    }\n",
       "\n",
       "    .dataframe thead th {\n",
       "        text-align: right;\n",
       "    }\n",
       "</style>\n",
       "<table border=\"1\" class=\"dataframe\">\n",
       "  <thead>\n",
       "    <tr style=\"text-align: right;\">\n",
       "      <th></th>\n",
       "      <th>model</th>\n",
       "      <th>precision</th>\n",
       "      <th>recall</th>\n",
       "      <th>F1</th>\n",
       "      <th>accuracy</th>\n",
       "    </tr>\n",
       "  </thead>\n",
       "  <tbody>\n",
       "    <tr>\n",
       "      <th>0</th>\n",
       "      <td>MD-MPH</td>\n",
       "      <td>0.887</td>\n",
       "      <td>0.984706</td>\n",
       "      <td>0.933224</td>\n",
       "      <td>0.875762</td>\n",
       "    </tr>\n",
       "  </tbody>\n",
       "</table>\n",
       "</div>"
      ],
      "text/plain": [
       "    model  precision    recall        F1  accuracy\n",
       "0  MD-MPH      0.887  0.984706  0.933224  0.875762"
      ]
     },
     "metadata": {},
     "output_type": "display_data"
    },
    {
     "name": "stdout",
     "output_type": "stream",
     "text": [
      "Running random forest classifier on: MD-MBA\n",
      "Fitting 10 folds for each of 1 candidates, totalling 10 fits\n",
      "0.9253731343283582\n"
     ]
    },
    {
     "data": {
      "application/vnd.microsoft.datawrangler.viewer.v0+json": {
       "columns": [
        {
         "name": "index",
         "rawType": "int64",
         "type": "integer"
        },
        {
         "name": "model",
         "rawType": "object",
         "type": "string"
        },
        {
         "name": "precision",
         "rawType": "float64",
         "type": "float"
        },
        {
         "name": "recall",
         "rawType": "float64",
         "type": "float"
        },
        {
         "name": "F1",
         "rawType": "float64",
         "type": "float"
        },
        {
         "name": "accuracy",
         "rawType": "float64",
         "type": "float"
        }
       ],
       "conversionMethod": "pd.DataFrame",
       "ref": "81d33509-6712-4bf2-b1a5-9d3ffff7c491",
       "rows": [
        [
         "0",
         "MD-MBA",
         "0.8857115489874111",
         "0.9735042735042736",
         "0.9271797943496056",
         "0.8650574712643678"
        ]
       ],
       "shape": {
        "columns": 5,
        "rows": 1
       }
      },
      "text/html": [
       "<div>\n",
       "<style scoped>\n",
       "    .dataframe tbody tr th:only-of-type {\n",
       "        vertical-align: middle;\n",
       "    }\n",
       "\n",
       "    .dataframe tbody tr th {\n",
       "        vertical-align: top;\n",
       "    }\n",
       "\n",
       "    .dataframe thead th {\n",
       "        text-align: right;\n",
       "    }\n",
       "</style>\n",
       "<table border=\"1\" class=\"dataframe\">\n",
       "  <thead>\n",
       "    <tr style=\"text-align: right;\">\n",
       "      <th></th>\n",
       "      <th>model</th>\n",
       "      <th>precision</th>\n",
       "      <th>recall</th>\n",
       "      <th>F1</th>\n",
       "      <th>accuracy</th>\n",
       "    </tr>\n",
       "  </thead>\n",
       "  <tbody>\n",
       "    <tr>\n",
       "      <th>0</th>\n",
       "      <td>MD-MBA</td>\n",
       "      <td>0.885712</td>\n",
       "      <td>0.973504</td>\n",
       "      <td>0.92718</td>\n",
       "      <td>0.865057</td>\n",
       "    </tr>\n",
       "  </tbody>\n",
       "</table>\n",
       "</div>"
      ],
      "text/plain": [
       "    model  precision    recall       F1  accuracy\n",
       "0  MD-MBA   0.885712  0.973504  0.92718  0.865057"
      ]
     },
     "metadata": {},
     "output_type": "display_data"
    },
    {
     "name": "stdout",
     "output_type": "stream",
     "text": [
      "Running random forest classifier on: MD-MSc\n",
      "Fitting 10 folds for each of 1 candidates, totalling 10 fits\n",
      "0.912621359223301\n"
     ]
    },
    {
     "data": {
      "application/vnd.microsoft.datawrangler.viewer.v0+json": {
       "columns": [
        {
         "name": "index",
         "rawType": "int64",
         "type": "integer"
        },
        {
         "name": "model",
         "rawType": "object",
         "type": "string"
        },
        {
         "name": "precision",
         "rawType": "float64",
         "type": "float"
        },
        {
         "name": "recall",
         "rawType": "float64",
         "type": "float"
        },
        {
         "name": "F1",
         "rawType": "float64",
         "type": "float"
        },
        {
         "name": "accuracy",
         "rawType": "float64",
         "type": "float"
        }
       ],
       "conversionMethod": "pd.DataFrame",
       "ref": "7c0d246a-62be-4e98-8915-5f038c24004a",
       "rows": [
        [
         "0",
         "MD-MSc",
         "0.8489361682680345",
         "0.9833638443935927",
         "0.9111882575379578",
         "0.8375456053067992"
        ]
       ],
       "shape": {
        "columns": 5,
        "rows": 1
       }
      },
      "text/html": [
       "<div>\n",
       "<style scoped>\n",
       "    .dataframe tbody tr th:only-of-type {\n",
       "        vertical-align: middle;\n",
       "    }\n",
       "\n",
       "    .dataframe tbody tr th {\n",
       "        vertical-align: top;\n",
       "    }\n",
       "\n",
       "    .dataframe thead th {\n",
       "        text-align: right;\n",
       "    }\n",
       "</style>\n",
       "<table border=\"1\" class=\"dataframe\">\n",
       "  <thead>\n",
       "    <tr style=\"text-align: right;\">\n",
       "      <th></th>\n",
       "      <th>model</th>\n",
       "      <th>precision</th>\n",
       "      <th>recall</th>\n",
       "      <th>F1</th>\n",
       "      <th>accuracy</th>\n",
       "    </tr>\n",
       "  </thead>\n",
       "  <tbody>\n",
       "    <tr>\n",
       "      <th>0</th>\n",
       "      <td>MD-MSc</td>\n",
       "      <td>0.848936</td>\n",
       "      <td>0.983364</td>\n",
       "      <td>0.911188</td>\n",
       "      <td>0.837546</td>\n",
       "    </tr>\n",
       "  </tbody>\n",
       "</table>\n",
       "</div>"
      ],
      "text/plain": [
       "    model  precision    recall        F1  accuracy\n",
       "0  MD-MSc   0.848936  0.983364  0.911188  0.837546"
      ]
     },
     "metadata": {},
     "output_type": "display_data"
    }
   ],
   "source": [
    "# Running random forest on each degree path\n",
    "feat_md, res_md = rf_spec(df=df_clean, degree_path=\"MD\")\n",
    "feat_mdphd, res_mdphd = rf_spec(df=df_clean, degree_path=\"MD-PhD\")\n",
    "feat_mdmph, res_mdmph = rf_spec(df=df_clean, degree_path=\"MD-MPH\")\n",
    "feat_mdmba, res_mdmba = rf_spec(df=df_clean, degree_path=\"MD-MBA\")\n",
    "feat_mdmsc, res_mdmsc = rf_spec(df=df_clean, degree_path=\"MD-MSc\")"
   ]
  },
  {
   "cell_type": "code",
   "execution_count": 30,
   "metadata": {},
   "outputs": [
    {
     "data": {
      "application/vnd.microsoft.datawrangler.viewer.v0+json": {
       "columns": [
        {
         "name": "index",
         "rawType": "int64",
         "type": "integer"
        },
        {
         "name": "feature",
         "rawType": "object",
         "type": "string"
        },
        {
         "name": "importance",
         "rawType": "float64",
         "type": "float"
        },
        {
         "name": "degree",
         "rawType": "object",
         "type": "string"
        },
        {
         "name": "size",
         "rawType": "int64",
         "type": "integer"
        }
       ],
       "conversionMethod": "pd.DataFrame",
       "ref": "acacea1a-2bf9-493b-9938-f74ba2233322",
       "rows": [
        [
         "0",
         "step2_centered",
         "0.11976611103423525",
         "MD",
         "19806"
        ],
        [
         "1",
         "step1_centered",
         "0.11840666466744754",
         "MD",
         "19806"
        ],
        [
         "2",
         "X..Leadership.Positions",
         "0.10720004420842393",
         "MD",
         "19806"
        ],
        [
         "3",
         "X..Volunteer.Experiences",
         "0.10263318956085932",
         "MD",
         "19806"
        ],
        [
         "4",
         "X..Research.Experiences",
         "0.0964341532451873",
         "MD",
         "19806"
        ],
        [
         "5",
         "X..Abstracts..Pres..Posters",
         "0.09629798718551733",
         "MD",
         "19806"
        ],
        [
         "6",
         "X..Peer.Rev.Publications",
         "0.08307631381588247",
         "MD",
         "19806"
        ],
        [
         "7",
         "X..Honored.Clerkships",
         "0.07805546744699834",
         "MD",
         "19806"
        ],
        [
         "8",
         "AOA.Sigma",
         "0.028271746870180758",
         "MD",
         "19806"
        ],
        [
         "9",
         "Public_School",
         "0.028085620607465618",
         "MD",
         "19806"
        ],
        [
         "10",
         "GHHS",
         "0.028085504881282235",
         "MD",
         "19806"
        ],
        [
         "11",
         "Honors.A.This.Specialty",
         "0.02786525954843554",
         "MD",
         "19806"
        ],
        [
         "12",
         "Research.Year",
         "0.021063941670557036",
         "MD",
         "19806"
        ],
        [
         "13",
         "Absence.Year",
         "0.020730856452527122",
         "MD",
         "19806"
        ],
        [
         "14",
         "Required.to.Remediate",
         "0.020110916942274484",
         "MD",
         "19806"
        ],
        [
         "15",
         "Couples.Match",
         "0.016513884219436677",
         "MD",
         "19806"
        ],
        [
         "16",
         "IvyP",
         "0.007402337643289104",
         "MD",
         "19806"
        ],
        [
         "0",
         "step2_centered",
         "0.13172136829806605",
         "MD-PhD",
         "828"
        ],
        [
         "1",
         "step1_centered",
         "0.12821449259332385",
         "MD-PhD",
         "828"
        ],
        [
         "2",
         "X..Volunteer.Experiences",
         "0.11045633520644967",
         "MD-PhD",
         "828"
        ],
        [
         "3",
         "X..Research.Experiences",
         "0.10650327332176819",
         "MD-PhD",
         "828"
        ],
        [
         "4",
         "X..Peer.Rev.Publications",
         "0.10638334548897783",
         "MD-PhD",
         "828"
        ],
        [
         "5",
         "X..Leadership.Positions",
         "0.09403348121172399",
         "MD-PhD",
         "828"
        ],
        [
         "6",
         "X..Honored.Clerkships",
         "0.09207384312242428",
         "MD-PhD",
         "828"
        ],
        [
         "7",
         "X..Abstracts..Pres..Posters",
         "0.05891668726382213",
         "MD-PhD",
         "828"
        ],
        [
         "8",
         "Honors.A.This.Specialty",
         "0.029549141292285773",
         "MD-PhD",
         "828"
        ],
        [
         "9",
         "GHHS",
         "0.028636666432726297",
         "MD-PhD",
         "828"
        ],
        [
         "10",
         "AOA.Sigma",
         "0.027813451927201138",
         "MD-PhD",
         "828"
        ],
        [
         "11",
         "Public_School",
         "0.027650931860742682",
         "MD-PhD",
         "828"
        ],
        [
         "12",
         "Research.Year",
         "0.02590091057626901",
         "MD-PhD",
         "828"
        ],
        [
         "13",
         "Absence.Year",
         "0.009928127233603392",
         "MD-PhD",
         "828"
        ],
        [
         "14",
         "Couples.Match",
         "0.00957422246713943",
         "MD-PhD",
         "828"
        ],
        [
         "15",
         "Required.to.Remediate",
         "0.007247885085770972",
         "MD-PhD",
         "828"
        ],
        [
         "16",
         "IvyP",
         "0.005395836617705254",
         "MD-PhD",
         "828"
        ],
        [
         "0",
         "step1_centered",
         "0.13249091237776198",
         "MD-MPH",
         "1208"
        ],
        [
         "1",
         "step2_centered",
         "0.11395973801705096",
         "MD-MPH",
         "1208"
        ],
        [
         "2",
         "X..Peer.Rev.Publications",
         "0.10179781052183624",
         "MD-MPH",
         "1208"
        ],
        [
         "3",
         "X..Research.Experiences",
         "0.0988671629196881",
         "MD-MPH",
         "1208"
        ],
        [
         "4",
         "X..Leadership.Positions",
         "0.09789676181926259",
         "MD-MPH",
         "1208"
        ],
        [
         "5",
         "X..Abstracts..Pres..Posters",
         "0.09246492569573665",
         "MD-MPH",
         "1208"
        ],
        [
         "6",
         "X..Volunteer.Experiences",
         "0.08338525275373042",
         "MD-MPH",
         "1208"
        ],
        [
         "7",
         "X..Honored.Clerkships",
         "0.0687401065478251",
         "MD-MPH",
         "1208"
        ],
        [
         "8",
         "GHHS",
         "0.035793610672093294",
         "MD-MPH",
         "1208"
        ],
        [
         "9",
         "Required.to.Remediate",
         "0.03171441350910858",
         "MD-MPH",
         "1208"
        ],
        [
         "10",
         "AOA.Sigma",
         "0.026750168491230266",
         "MD-MPH",
         "1208"
        ],
        [
         "11",
         "Honors.A.This.Specialty",
         "0.02659484562162144",
         "MD-MPH",
         "1208"
        ],
        [
         "12",
         "Research.Year",
         "0.023366170081931842",
         "MD-MPH",
         "1208"
        ],
        [
         "13",
         "Public_School",
         "0.02243487070190048",
         "MD-MPH",
         "1208"
        ],
        [
         "14",
         "Couples.Match",
         "0.018127150119010588",
         "MD-MPH",
         "1208"
        ],
        [
         "15",
         "Absence.Year",
         "0.013782352720287513",
         "MD-MPH",
         "1208"
        ]
       ],
       "shape": {
        "columns": 4,
        "rows": 85
       }
      },
      "text/html": [
       "<div>\n",
       "<style scoped>\n",
       "    .dataframe tbody tr th:only-of-type {\n",
       "        vertical-align: middle;\n",
       "    }\n",
       "\n",
       "    .dataframe tbody tr th {\n",
       "        vertical-align: top;\n",
       "    }\n",
       "\n",
       "    .dataframe thead th {\n",
       "        text-align: right;\n",
       "    }\n",
       "</style>\n",
       "<table border=\"1\" class=\"dataframe\">\n",
       "  <thead>\n",
       "    <tr style=\"text-align: right;\">\n",
       "      <th></th>\n",
       "      <th>feature</th>\n",
       "      <th>importance</th>\n",
       "      <th>degree</th>\n",
       "      <th>size</th>\n",
       "    </tr>\n",
       "  </thead>\n",
       "  <tbody>\n",
       "    <tr>\n",
       "      <th>0</th>\n",
       "      <td>step2_centered</td>\n",
       "      <td>0.119766</td>\n",
       "      <td>MD</td>\n",
       "      <td>19806</td>\n",
       "    </tr>\n",
       "    <tr>\n",
       "      <th>1</th>\n",
       "      <td>step1_centered</td>\n",
       "      <td>0.118407</td>\n",
       "      <td>MD</td>\n",
       "      <td>19806</td>\n",
       "    </tr>\n",
       "    <tr>\n",
       "      <th>2</th>\n",
       "      <td>X..Leadership.Positions</td>\n",
       "      <td>0.107200</td>\n",
       "      <td>MD</td>\n",
       "      <td>19806</td>\n",
       "    </tr>\n",
       "    <tr>\n",
       "      <th>3</th>\n",
       "      <td>X..Volunteer.Experiences</td>\n",
       "      <td>0.102633</td>\n",
       "      <td>MD</td>\n",
       "      <td>19806</td>\n",
       "    </tr>\n",
       "    <tr>\n",
       "      <th>4</th>\n",
       "      <td>X..Research.Experiences</td>\n",
       "      <td>0.096434</td>\n",
       "      <td>MD</td>\n",
       "      <td>19806</td>\n",
       "    </tr>\n",
       "    <tr>\n",
       "      <th>...</th>\n",
       "      <td>...</td>\n",
       "      <td>...</td>\n",
       "      <td>...</td>\n",
       "      <td>...</td>\n",
       "    </tr>\n",
       "    <tr>\n",
       "      <th>12</th>\n",
       "      <td>Absence.Year</td>\n",
       "      <td>0.020664</td>\n",
       "      <td>MD-MSc</td>\n",
       "      <td>1685</td>\n",
       "    </tr>\n",
       "    <tr>\n",
       "      <th>13</th>\n",
       "      <td>Couples.Match</td>\n",
       "      <td>0.016605</td>\n",
       "      <td>MD-MSc</td>\n",
       "      <td>1685</td>\n",
       "    </tr>\n",
       "    <tr>\n",
       "      <th>14</th>\n",
       "      <td>IvyP</td>\n",
       "      <td>0.014778</td>\n",
       "      <td>MD-MSc</td>\n",
       "      <td>1685</td>\n",
       "    </tr>\n",
       "    <tr>\n",
       "      <th>15</th>\n",
       "      <td>Research.Year</td>\n",
       "      <td>0.012866</td>\n",
       "      <td>MD-MSc</td>\n",
       "      <td>1685</td>\n",
       "    </tr>\n",
       "    <tr>\n",
       "      <th>16</th>\n",
       "      <td>Required.to.Remediate</td>\n",
       "      <td>0.011353</td>\n",
       "      <td>MD-MSc</td>\n",
       "      <td>1685</td>\n",
       "    </tr>\n",
       "  </tbody>\n",
       "</table>\n",
       "<p>85 rows × 4 columns</p>\n",
       "</div>"
      ],
      "text/plain": [
       "                     feature  importance  degree   size\n",
       "0             step2_centered    0.119766      MD  19806\n",
       "1             step1_centered    0.118407      MD  19806\n",
       "2    X..Leadership.Positions    0.107200      MD  19806\n",
       "3   X..Volunteer.Experiences    0.102633      MD  19806\n",
       "4    X..Research.Experiences    0.096434      MD  19806\n",
       "..                       ...         ...     ...    ...\n",
       "12              Absence.Year    0.020664  MD-MSc   1685\n",
       "13             Couples.Match    0.016605  MD-MSc   1685\n",
       "14                      IvyP    0.014778  MD-MSc   1685\n",
       "15             Research.Year    0.012866  MD-MSc   1685\n",
       "16     Required.to.Remediate    0.011353  MD-MSc   1685\n",
       "\n",
       "[85 rows x 4 columns]"
      ]
     },
     "metadata": {},
     "output_type": "display_data"
    },
    {
     "data": {
      "application/vnd.microsoft.datawrangler.viewer.v0+json": {
       "columns": [
        {
         "name": "index",
         "rawType": "int64",
         "type": "integer"
        },
        {
         "name": "model",
         "rawType": "object",
         "type": "string"
        },
        {
         "name": "precision",
         "rawType": "float64",
         "type": "float"
        },
        {
         "name": "recall",
         "rawType": "float64",
         "type": "float"
        },
        {
         "name": "F1",
         "rawType": "float64",
         "type": "float"
        },
        {
         "name": "accuracy",
         "rawType": "float64",
         "type": "float"
        }
       ],
       "conversionMethod": "pd.DataFrame",
       "ref": "054462cc-e2aa-4b9a-87d3-6e45bfc6bb7f",
       "rows": [
        [
         "0",
         "MD",
         "0.8844381724074271",
         "0.9994286733965534",
         "0.9384237220216951",
         "0.8840570531816588"
        ],
        [
         "0",
         "MD-PhD",
         "0.8777950525541703",
         "0.9792498487598307",
         "0.9256614497505005",
         "0.8625282677521483"
        ],
        [
         "0",
         "MD-MPH",
         "0.8870000668278586",
         "0.9847058823529412",
         "0.9332243901068716",
         "0.8757624570446735"
        ],
        [
         "0",
         "MD-MBA",
         "0.8857115489874111",
         "0.9735042735042736",
         "0.9271797943496056",
         "0.8650574712643678"
        ],
        [
         "0",
         "MD-MSc",
         "0.8489361682680345",
         "0.9833638443935927",
         "0.9111882575379578",
         "0.8375456053067992"
        ]
       ],
       "shape": {
        "columns": 5,
        "rows": 5
       }
      },
      "text/html": [
       "<div>\n",
       "<style scoped>\n",
       "    .dataframe tbody tr th:only-of-type {\n",
       "        vertical-align: middle;\n",
       "    }\n",
       "\n",
       "    .dataframe tbody tr th {\n",
       "        vertical-align: top;\n",
       "    }\n",
       "\n",
       "    .dataframe thead th {\n",
       "        text-align: right;\n",
       "    }\n",
       "</style>\n",
       "<table border=\"1\" class=\"dataframe\">\n",
       "  <thead>\n",
       "    <tr style=\"text-align: right;\">\n",
       "      <th></th>\n",
       "      <th>model</th>\n",
       "      <th>precision</th>\n",
       "      <th>recall</th>\n",
       "      <th>F1</th>\n",
       "      <th>accuracy</th>\n",
       "    </tr>\n",
       "  </thead>\n",
       "  <tbody>\n",
       "    <tr>\n",
       "      <th>0</th>\n",
       "      <td>MD</td>\n",
       "      <td>0.884438</td>\n",
       "      <td>0.999429</td>\n",
       "      <td>0.938424</td>\n",
       "      <td>0.884057</td>\n",
       "    </tr>\n",
       "    <tr>\n",
       "      <th>0</th>\n",
       "      <td>MD-PhD</td>\n",
       "      <td>0.877795</td>\n",
       "      <td>0.979250</td>\n",
       "      <td>0.925661</td>\n",
       "      <td>0.862528</td>\n",
       "    </tr>\n",
       "    <tr>\n",
       "      <th>0</th>\n",
       "      <td>MD-MPH</td>\n",
       "      <td>0.887000</td>\n",
       "      <td>0.984706</td>\n",
       "      <td>0.933224</td>\n",
       "      <td>0.875762</td>\n",
       "    </tr>\n",
       "    <tr>\n",
       "      <th>0</th>\n",
       "      <td>MD-MBA</td>\n",
       "      <td>0.885712</td>\n",
       "      <td>0.973504</td>\n",
       "      <td>0.927180</td>\n",
       "      <td>0.865057</td>\n",
       "    </tr>\n",
       "    <tr>\n",
       "      <th>0</th>\n",
       "      <td>MD-MSc</td>\n",
       "      <td>0.848936</td>\n",
       "      <td>0.983364</td>\n",
       "      <td>0.911188</td>\n",
       "      <td>0.837546</td>\n",
       "    </tr>\n",
       "  </tbody>\n",
       "</table>\n",
       "</div>"
      ],
      "text/plain": [
       "    model  precision    recall        F1  accuracy\n",
       "0      MD   0.884438  0.999429  0.938424  0.884057\n",
       "0  MD-PhD   0.877795  0.979250  0.925661  0.862528\n",
       "0  MD-MPH   0.887000  0.984706  0.933224  0.875762\n",
       "0  MD-MBA   0.885712  0.973504  0.927180  0.865057\n",
       "0  MD-MSc   0.848936  0.983364  0.911188  0.837546"
      ]
     },
     "metadata": {},
     "output_type": "display_data"
    }
   ],
   "source": [
    "# Merging RF results for all degree paths\n",
    "features = pd.concat([feat_md, feat_mdphd, feat_mdmph, feat_mdmba, feat_mdmsc], axis=0)\n",
    "scores = pd.concat([res_md, res_mdphd, res_mdmph, res_mdmba, res_mdmsc], axis=0)\n",
    "display(features)\n",
    "display(scores)\n",
    "\n",
    "# exporting to excel\n",
    "#features.to_excel(\"tables/random_forest_feature_importances.xlsx\", index=False)\n",
    "#scores.to_excel(\"tables/random_forest_model_scores.xlsx\", index=False)"
   ]
  },
  {
   "cell_type": "code",
   "execution_count": 29,
   "metadata": {},
   "outputs": [
    {
     "data": {
      "text/plain": [
       "(23897, 19)"
      ]
     },
     "execution_count": 29,
     "metadata": {},
     "output_type": "execute_result"
    }
   ],
   "source": [
    "df_clean.shape"
   ]
  },
  {
   "cell_type": "code",
   "execution_count": 25,
   "metadata": {},
   "outputs": [
    {
     "data": {
      "text/plain": [
       "degrees\n",
       "MD        19806\n",
       "MD-MSc     1685\n",
       "MD-MPH     1208\n",
       "MD-PhD      828\n",
       "MD-MBA      370\n",
       "Name: count, dtype: int64"
      ]
     },
     "execution_count": 25,
     "metadata": {},
     "output_type": "execute_result"
    }
   ],
   "source": [
    "df_clean['degrees'].value_counts()"
   ]
  },
  {
   "cell_type": "code",
   "execution_count": null,
   "metadata": {},
   "outputs": [],
   "source": []
  },
  {
   "cell_type": "code",
   "execution_count": null,
   "metadata": {},
   "outputs": [],
   "source": []
  },
  {
   "cell_type": "code",
   "execution_count": null,
   "metadata": {},
   "outputs": [],
   "source": []
  },
  {
   "cell_type": "code",
   "execution_count": null,
   "metadata": {},
   "outputs": [],
   "source": []
  },
  {
   "cell_type": "code",
   "execution_count": null,
   "metadata": {},
   "outputs": [],
   "source": []
  }
 ],
 "metadata": {
  "kernelspec": {
   "display_name": "base",
   "language": "python",
   "name": "python3"
  },
  "language_info": {
   "codemirror_mode": {
    "name": "ipython",
    "version": 3
   },
   "file_extension": ".py",
   "mimetype": "text/x-python",
   "name": "python",
   "nbconvert_exporter": "python",
   "pygments_lexer": "ipython3",
   "version": "3.9.21"
  }
 },
 "nbformat": 4,
 "nbformat_minor": 2
}
